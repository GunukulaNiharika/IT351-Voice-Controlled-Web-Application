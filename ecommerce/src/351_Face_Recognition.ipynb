{
  "nbformat": 4,
  "nbformat_minor": 0,
  "metadata": {
    "colab": {
      "name": "351-Face-Recognition.ipynb",
      "provenance": [],
      "collapsed_sections": []
    },
    "kernelspec": {
      "name": "python3",
      "display_name": "Python 3"
    },
    "language_info": {
      "name": "python"
    },
    "accelerator": "GPU"
  },
  "cells": [
    {
      "cell_type": "code",
      "execution_count": null,
      "metadata": {
        "colab": {
          "base_uri": "https://localhost:8080/"
        },
        "id": "kSmaB2NqSfWq",
        "outputId": "7f73567e-efc0-4823-cd79-e992d498d030"
      },
      "outputs": [
        {
          "output_type": "stream",
          "name": "stdout",
          "text": [
            "--2022-04-11 09:07:49--  https://upload.wikimedia.org/wikipedia/commons/e/ed/Elon_Musk_Royal_Society.jpg\n",
            "Resolving upload.wikimedia.org (upload.wikimedia.org)... 208.80.153.240, 2620:0:860:ed1a::2:b\n",
            "Connecting to upload.wikimedia.org (upload.wikimedia.org)|208.80.153.240|:443... connected.\n",
            "HTTP request sent, awaiting response... 200 OK\n",
            "Length: 239507 (234K) [image/jpeg]\n",
            "Saving to: ‘known/elon.jpg’\n",
            "\n",
            "\rknown/elon.jpg        0%[                    ]       0  --.-KB/s               \rknown/elon.jpg      100%[===================>] 233.89K  --.-KB/s    in 0.09s   \n",
            "\n",
            "2022-04-11 09:07:50 (2.57 MB/s) - ‘known/elon.jpg’ saved [239507/239507]\n",
            "\n",
            "--2022-04-11 09:07:50--  https://pbs.twimg.com/profile_images/988775660163252226/XpgonN0X_400x400.jpg\n",
            "Resolving pbs.twimg.com (pbs.twimg.com)... 72.21.91.70\n",
            "Connecting to pbs.twimg.com (pbs.twimg.com)|72.21.91.70|:443... connected.\n",
            "HTTP request sent, awaiting response... 404 Not Found\n",
            "2022-04-11 09:07:50 ERROR 404: Not Found.\n",
            "\n",
            "/bin/bash: -O: command not found\n",
            "--2022-04-11 09:07:50--  https://pmcvariety.files.wordpress.com/2017/05/mark-zuckerberg.jpg?w=681\n",
            "Resolving pmcvariety.files.wordpress.com (pmcvariety.files.wordpress.com)... 192.0.72.20, 192.0.72.21\n",
            "Connecting to pmcvariety.files.wordpress.com (pmcvariety.files.wordpress.com)|192.0.72.20|:443... connected.\n",
            "HTTP request sent, awaiting response... 404 Not Found\n",
            "2022-04-11 09:07:50 ERROR 404: Not Found.\n",
            "\n"
          ]
        }
      ],
      "source": [
        "!mkdir known\n",
        "!wget https://upload.wikimedia.org/wikipedia/commons/e/ed/Elon_Musk_Royal_Society.jpg -O known/elon.jpg\n",
        "!wget https://pbs.twimg.com/profile_images/988775660163252226/XpgonN0X_400x400.jpg -O known/bill.jpg\n",
        "!wget https://pmcvariety.files.wordpress.com/2017/05/mark-zuckerberg.jpg?w=681&h=383&crop=1 -O known/mark.jpg"
      ]
    },
    {
      "cell_type": "code",
      "source": [
        "!mkdir unknown\n",
        "!wget https://cdn.vox-cdn.com/thumbor/4QtOwnOxCdwESvt1-CpQSTZvHHA=/1400x1400/filters:format(jpeg)/cdn.vox-cdn.com/uploads/chorus_asset/file/19932738/1206292068.jpg -O unknown/1.jpg\n",
        "!wget  https://upload.wikimedia.org/wikipedia/commons/a/a0/Bill_Gates_2018.jpg -O unknown/2.jpg\n",
        "!wget https://api.time.com/wp-content/uploads/2019/04/mark-zuckerberg-time-100-2019.jpg?quality=85&zoom=2 -O unknown/3.jpg"
      ],
      "metadata": {
        "colab": {
          "base_uri": "https://localhost:8080/"
        },
        "id": "3xVhGaQmSg8t",
        "outputId": "49e2a4f9-3f4a-48b7-a1ba-6eeafc4cf311"
      },
      "execution_count": null,
      "outputs": [
        {
          "output_type": "stream",
          "name": "stdout",
          "text": [
            "/bin/bash: -c: line 0: syntax error near unexpected token `('\n",
            "/bin/bash: -c: line 0: `wget https://cdn.vox-cdn.com/thumbor/4QtOwnOxCdwESvt1-CpQSTZvHHA=/1400x1400/filters:format(jpeg)/cdn.vox-cdn.com/uploads/chorus_asset/file/19932738/1206292068.jpg -O unknown/1.jpg'\n",
            "--2022-04-11 09:07:50--  https://upload.wikimedia.org/wikipedia/commons/a/a0/Bill_Gates_2018.jpg\n",
            "Resolving upload.wikimedia.org (upload.wikimedia.org)... 208.80.153.240, 2620:0:860:ed1a::2:b\n",
            "Connecting to upload.wikimedia.org (upload.wikimedia.org)|208.80.153.240|:443... connected.\n",
            "HTTP request sent, awaiting response... 200 OK\n",
            "Length: 318220 (311K) [image/jpeg]\n",
            "Saving to: ‘unknown/2.jpg’\n",
            "\n",
            "unknown/2.jpg       100%[===================>] 310.76K  --.-KB/s    in 0.1s    \n",
            "\n",
            "2022-04-11 09:07:51 (3.02 MB/s) - ‘unknown/2.jpg’ saved [318220/318220]\n",
            "\n",
            "/bin/bash: -O: command not found\n",
            "--2022-04-11 09:07:51--  https://api.time.com/wp-content/uploads/2019/04/mark-zuckerberg-time-100-2019.jpg?quality=85\n",
            "Resolving api.time.com (api.time.com)... 192.0.66.64, 2a04:fa87:fffd::c000:4240\n",
            "Connecting to api.time.com (api.time.com)|192.0.66.64|:443... connected.\n",
            "HTTP request sent, awaiting response... 200 OK\n",
            "Length: 688538 (672K) [image/jpeg]\n",
            "Saving to: ‘mark-zuckerberg-time-100-2019.jpg?quality=85’\n",
            "\n",
            "mark-zuckerberg-tim 100%[===================>] 672.40K  --.-KB/s    in 0.1s    \n",
            "\n",
            "2022-04-11 09:07:51 (4.87 MB/s) - ‘mark-zuckerberg-time-100-2019.jpg?quality=85’ saved [688538/688538]\n",
            "\n"
          ]
        }
      ]
    },
    {
      "cell_type": "code",
      "source": [
        "!pip install face_recognition"
      ],
      "metadata": {
        "colab": {
          "base_uri": "https://localhost:8080/"
        },
        "id": "IvbFyiCeSoQ3",
        "outputId": "a82fa39b-7dd0-4b8a-81da-6dde56abb782"
      },
      "execution_count": null,
      "outputs": [
        {
          "output_type": "stream",
          "name": "stdout",
          "text": [
            "Collecting face_recognition\n",
            "  Downloading face_recognition-1.3.0-py2.py3-none-any.whl (15 kB)\n",
            "Collecting face-recognition-models>=0.3.0\n",
            "  Downloading face_recognition_models-0.3.0.tar.gz (100.1 MB)\n",
            "\u001b[K     |████████████████████████████████| 100.1 MB 31 kB/s \n",
            "\u001b[?25hRequirement already satisfied: dlib>=19.7 in /usr/local/lib/python3.7/dist-packages (from face_recognition) (19.18.0)\n",
            "Requirement already satisfied: Pillow in /usr/local/lib/python3.7/dist-packages (from face_recognition) (7.1.2)\n",
            "Requirement already satisfied: Click>=6.0 in /usr/local/lib/python3.7/dist-packages (from face_recognition) (7.1.2)\n",
            "Requirement already satisfied: numpy in /usr/local/lib/python3.7/dist-packages (from face_recognition) (1.21.5)\n",
            "Building wheels for collected packages: face-recognition-models\n",
            "  Building wheel for face-recognition-models (setup.py) ... \u001b[?25l\u001b[?25hdone\n",
            "  Created wheel for face-recognition-models: filename=face_recognition_models-0.3.0-py2.py3-none-any.whl size=100566186 sha256=3d92bfee2ae150fc7339d3e2d1ff7a0ee630ba1b6587c95202276a17135f8e9f\n",
            "  Stored in directory: /root/.cache/pip/wheels/d6/81/3c/884bcd5e1c120ff548d57c2ecc9ebf3281c9a6f7c0e7e7947a\n",
            "Successfully built face-recognition-models\n",
            "Installing collected packages: face-recognition-models, face-recognition\n",
            "Successfully installed face-recognition-1.3.0 face-recognition-models-0.3.0\n"
          ]
        }
      ]
    },
    {
      "cell_type": "code",
      "source": [
        "import face_recognition   ##Detecting and recogniting faces\n",
        "import cv2     ## intracting with images\n",
        "import os       ## For Reading the file name\n",
        "from google.colab.patches import cv2_imshow ## we are importing cv2_imshow from google.colab.patches because google colab doesn't support cv2.imshow() funciton."
      ],
      "metadata": {
        "id": "-hKtSJ1BSrSO"
      },
      "execution_count": null,
      "outputs": []
    },
    {
      "cell_type": "code",
      "source": [
        "def read_img(path):\n",
        "   img = cv2.imread(path) ## reading image\n",
        "   (h,w) = img.shape[:2]  ## fetching height and width\n",
        "   width = 500            ## hard coding width\n",
        "   ratio = width / float(w) ## preparing a ration for height\n",
        "   height = int(h * ratio)  ## generating new height\n",
        "   return cv2.resize(img,(width,height)) ##return the reshaped image"
      ],
      "metadata": {
        "id": "JFk6pK1zSvac"
      },
      "execution_count": null,
      "outputs": []
    },
    {
      "cell_type": "code",
      "source": [
        "!pwd"
      ],
      "metadata": {
        "colab": {
          "base_uri": "https://localhost:8080/"
        },
        "id": "rzRXlgMvUWuA",
        "outputId": "810ee459-b0d3-4efa-f92b-b3a2394362f3"
      },
      "execution_count": null,
      "outputs": [
        {
          "output_type": "stream",
          "name": "stdout",
          "text": [
            "/content\n"
          ]
        }
      ]
    },
    {
      "cell_type": "code",
      "source": [
        "known_encodings = [] \n",
        "known_names = []\n",
        "known_dir = 'known' ##Known directory path\n",
        "for filename in os.listdir(known_dir):\n",
        "    # print(type(filename))\n",
        "    img = cv2.imread(os.path.join(known_dir,filename))\n",
        "    # (known_dir + '/' + file) ##Reading all the images\n",
        "    if img is not None: \n",
        "      img_enc = face_recognition.face_encodings(img)[0] ##face encodings\n",
        "      known_encodings.append(img_enc) \n",
        "      known_names.append(filename.split('.')[0])\n",
        "print(known_names) ## Printing all the known labels"
      ],
      "metadata": {
        "colab": {
          "base_uri": "https://localhost:8080/"
        },
        "id": "HDlO18dgTTo1",
        "outputId": "448647b4-e760-44a2-fdff-fe0a40b6b25c"
      },
      "execution_count": null,
      "outputs": [
        {
          "output_type": "stream",
          "name": "stdout",
          "text": [
            "['bill', 'Niharika', 'elon', 'shipra', 'harshitha']\n"
          ]
        }
      ]
    },
    {
      "cell_type": "code",
      "source": [
        "unknown_dir = 'unknown' ##UNknown Images Directory\n",
        "for filename in os.listdir(unknown_dir):\n",
        " print(\"Processing\",filename)\n",
        " img = cv2.imread(os.path.join(unknown_dir,filename))\n",
        "#  img = read_img(unknown_dir + '/' + file)##reading images\n",
        " img_enc = face_recognition.face_encodings(img)[0]##Encodings\n",
        " results = face_recognition.compare_faces(known_encodings,img_enc)\n",
        " ##Comparing Known Encodings with Unknown encoding\n",
        " print(face_recognition.face_distance(known_encodings,img_enc))\n",
        " ## Printing Face Distances\n",
        " res = [i for i, val in enumerate(results) if val]\n",
        " name = known_names[res[0]]\n",
        " print(res)\n",
        " '''\n",
        " Drawing a rectangle box around the faces of unknown images using  face_locations function in library\n",
        " '''\n",
        " (top,right,bottom,left) = face_recognition.face_locations(img)[0]\n",
        " cv2.rectangle(img,(left,top),(right,bottom),(255,255,100),2)\n",
        " ##Drawing Rectangle\n",
        " cv2.putText(img,name,(left+2,bottom+20),cv2.FONT_HERSHEY_PLAIN,3, (100,0,255),2) ##Putting labels(names) on the rectangle\n",
        " cv2_imshow(img) ##showing images"
      ],
      "metadata": {
        "id": "XgGTtc5SU0pf"
      },
      "execution_count": null,
      "outputs": []
    },
    {
      "cell_type": "code",
      "source": [
        ""
      ],
      "metadata": {
        "id": "I9wbsMLCTXAB"
      },
      "execution_count": null,
      "outputs": []
    }
  ]
}